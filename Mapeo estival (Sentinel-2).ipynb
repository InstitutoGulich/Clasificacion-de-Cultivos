{
 "cells": [
  {
   "cell_type": "code",
   "execution_count": 2,
   "metadata": {
    "id": "ghF9030Gc_D8"
   },
   "outputs": [],
   "source": [
    "# librerias a usar\n",
    "import ee\n",
    "import geemap\n",
    "\n",
    "# Activar los pasos de la autenticación con la cuenta de GEE.\n",
    "ee.Authenticate()\n",
    "\n",
    "# Inicializar la librería ee.\n",
    "ee.Initialize()"
   ]
  },
  {
   "cell_type": "code",
   "execution_count": 3,
   "metadata": {
    "scrolled": true
   },
   "outputs": [
    {
     "data": {
      "application/vnd.jupyter.widget-view+json": {
       "model_id": "db5803d68a9f43ea975914a96764cfee",
       "version_major": 2,
       "version_minor": 0
      },
      "text/plain": [
       "Map(center=[-32, -63], controls=(WidgetControl(options=['position', 'transparent_bg'], widget=HBox(children=(T…"
      ]
     },
     "metadata": {},
     "output_type": "display_data"
    }
   ],
   "source": [
    "Map = geemap.Map()\n",
    "\n",
    "# **********  Datos de entrada para los modelos de clasificación  ***************\n",
    "\n",
    "# Se selecciona la colección de imagenes a utilizar. En este caso se trabaja con la collección Sentinel 2-A (reflectancia en superficie).\n",
    "imagecollection =  ee.ImageCollection('COPERNICUS/S2_SR')\n",
    "# Se carga el vector con el área/s a clasificar (Desde la compu o asset de GEE)\n",
    "area = ee.FeatureCollection('users/COMPLETAR')\n",
    "# Se carga el vector con los datos de referencia a terreno (para entrenar y validar)\n",
    "rdata = ee.FeatureCollection('users/COMPLETAR')\n",
    "\n",
    "# Se llama el MNC estival del INTA para la campaña 2021 para enmascarar áreas no agrícolas\n",
    "mnc_ver_2021 = ee.Image('users/mnolasco/IG-SANCOR/mnc-verano-2021')\n",
    "# Se llama el LandCover de la ESA para enmascarar áreas no agrícolas fuera de argentina\n",
    "clc = ee.Image(\"COPERNICUS/Landcover/100m/Proba-V-C3/Global/2019\").select('discrete_classification')\n",
    "\n",
    "# Se carga la capa hybrid de google en el visor\n",
    "Map.add_basemap('HYBRID')\n",
    "# Se carga en el visor las áreas a clasificar.  \n",
    "Map.addLayer(area,{},'Zonas a calsificar', False)\n",
    "# Se centra el visor en un punto\n",
    "Map.setCenter(-63, -32, 7)\n",
    "\n",
    "# Se define la paleta correspondiente al MNC 2021, y se carga el mapa en el visor\n",
    "palette = ['FFF302','2DD200','FF9700','FFFFFF','1E8D00','B6B6B6','00FFE8','0046FF','FF1B00','FFDC00','000000','B6A431','000000','000000','000000','000000','FFE294','000000','FFAA94']\n",
    "Map.addLayer(mnc_ver_2021,{'min': 10, 'max': 28, 'palette': palette},'Mapa Nacional de Cultivos 2020-2021', False)\n",
    "\n",
    "# FILTRADO DE IMAGENES DE LA COLECCIÓN S2-A\n",
    "# Se setea la fecha de inicio\n",
    "start_date = '2020-06-01'\n",
    "# Se setea la fecha de fin\n",
    "end_date = '2021-06-01'\n",
    "# Se setea el umbral para la cobertura de nubes\n",
    "cloud = 20\n",
    "# Se especifican las bandas de interes de S2\n",
    "bands = ('B2','B3','B4','B5','B6','B7','B8','B8A','B11','B12')\n",
    "\n",
    "# Se filtra la colección S2 por bandas, fechas, cobertura de nubes y area de estudio.\n",
    "S2_f = imagecollection.select(bands).filterDate(start_date, end_date).filterMetadata('CLOUDY_PIXEL_PERCENTAGE', 'less_than', cloud).filterBounds(area)\n",
    "\n",
    "Map\n",
    "\n"
   ]
  },
  {
   "cell_type": "code",
   "execution_count": null,
   "metadata": {},
   "outputs": [],
   "source": [
    "# Se puede pedir imprimir la propiedad de alguna imagen de la colección\n",
    "image = ee.Image(S2_f.toList(S2_f.size()).get(0))\n",
    "print(image.get('system:id').getInfo())\n"
   ]
  },
  {
   "cell_type": "code",
   "execution_count": 4,
   "metadata": {},
   "outputs": [],
   "source": [
    "# Función para cambiar el nombre a las bandas de las imagenes\n",
    "def changeBandNameS2(image):\n",
    "    return image.select(['B2', 'B3', 'B4', 'B5', 'B6', 'B7','B8','B8A','B11','B12'],\n",
    "  ['BLUE', 'GREEN', 'RED', 'RED_EDGE1','RED_EDGE2','RED_EDGE3','NIR', 'RED_EDGE4', 'SWIR1','SWIR2'])\n",
    "# Se aplica la función para cambiar el nombre a las bandas\n",
    "S2n = changeBandNameS2(S2_f)\n",
    "    \n",
    "# Se define función para agregar la banda NDVI a cada imagen de la colección\n",
    "def addNDVI(image):\n",
    "    NDVI = image.normalizedDifference(['NIR', 'RED']).rename('NDVI')\n",
    "    newImage = image.addBands(NDVI)\n",
    "    return (newImage)\n",
    "\n",
    "# Se puede aplicar la función para agregar la banda NDVI (OPCIONAL)\n",
    "S2 = S2n#.map(addNDVI)\n",
    "\n",
    "# Se crean mosaicos usando la función mediana segun los periodos de tiempo\n",
    "median_image = S2_f.median()\n",
    "MM_S2_a = S2.filter(ee.Filter.calendarRange(11,12, \"month\")).median()\n",
    "MM_S2_b = S2.filter(ee.Filter.calendarRange(1,2, \"month\")).median()\n",
    "MM_S2_c = S2.filter(ee.Filter.calendarRange(3,4, \"month\")).median()\n",
    "#S2_d = S2.filter(ee.Filter.calendarRange(9,9, \"month\")).median()\n",
    "#S2_e = S2.filter(ee.Filter.calendarRange(10,10, \"month\")).median()\n",
    "#S2_f = S2.filter(ee.Filter.calendarRange(11,11, \"month\")).median()\n",
    "#S2_g = S2.filter(ee.Filter.calendarRange(12,12, \"month\")).median()\n",
    "\n",
    "# Se crean mosaicos usando la función quality mosaic segun los periodos de tiempo (Es necesario agregar la banda de NDVI)\n",
    "#QM_S2_a = S2.filter(ee.Filter.calendarRange(9,10, \"month\")).qualityMosaic('NDVI')\n",
    "#QM_S2_b = S2.filter(ee.Filter.calendarRange(11,12, \"month\")).qualityMosaic('NDVI')\n",
    "#QM_S2_c = S2.filter(ee.Filter.calendarRange(1,2, \"month\")).qualityMosaic('NDVI')\n",
    "#QM_S2_d = S2.filter(ee.Filter.calendarRange(3,5, \"month\")).qualityMosaic('NDVI')\n",
    "#QM_S2_e = S2.filter(ee.Filter.calendarRange(1,1, \"month\")).qualityMosaic('NDVI').clip(area)\n",
    "#QM_S2_f = S2.filter(ee.Filter.calendarRange(2,2, \"month\")).qualityMosaic('NDVI').clip(area)\n",
    "#QM_S2_g = S2.filter(ee.Filter.calendarRange(3,3, \"month\")).qualityMosaic('NDVI').clip(area)\n",
    "#QM_S2_h = S2.filter(ee.Filter.calendarRange(4,4, \"month\")).qualityMosaic('NDVI').clip(area)\n",
    "#QM_S2_i = S2.filter(ee.Filter.calendarRange(5,5, \"month\")).qualityMosaic('NDVI').clip(area)\n",
    "\n",
    "\n",
    "# Se seleccionan los mosaicos con los cuales trabajar\n",
    "# El primero sirve de base para definir el area de trabajo\n",
    "oneband = median_image.select(['B2']).rename(['BLUE0'])\n",
    "S2_col = ee.ImageCollection([oneband, MM_S2_a, MM_S2_b, MM_S2_c]) \n",
    "#S2_col = ee.ImageCollection([oneband, QM_S2_a, QM_S2_b, QM_S2_c, QM_S2_d])\n",
    "\n",
    "# Se define una función para apilar los mosaicos seleccionados y formar una imagen\n",
    "def stackCollection(collection):\n",
    "  # Create an initial image.\n",
    "  first = ee.Image(collection.first()).select([])\n",
    "\n",
    "  # Write a function that appends a band to an image.\n",
    "  def appendBands(image, previous):\n",
    "    return ee.Image(previous).addBands(image)\n",
    "  \n",
    "  return ee.Image(collection.iterate(appendBands, first))\n",
    "\n",
    "# Se aplica la función de apilado de bandas\n",
    "stacked = stackCollection(S2_col)"
   ]
  },
  {
   "cell_type": "code",
   "execution_count": 5,
   "metadata": {},
   "outputs": [],
   "source": [
    "# Se setean las bandas a utilizar en la clasificación:\n",
    "bands =['BLUE', 'GREEN', 'RED', 'RED_EDGE1', 'RED_EDGE2', 'RED_EDGE3', 'NIR', 'RED_EDGE4', 'SWIR1', 'SWIR2', 'BLUE_1', 'GREEN_1', 'RED_1', 'RED_EDGE1_1', 'RED_EDGE2_1', 'RED_EDGE3_1', 'NIR_1', 'RED_EDGE4_1', 'SWIR1_1', 'SWIR2_1', 'BLUE_2', 'GREEN_2', 'RED_2', 'RED_EDGE1_2', 'RED_EDGE2_2', 'RED_EDGE3_2', 'NIR_2', 'RED_EDGE4_2', 'SWIR1_2', 'SWIR2_2']"
   ]
  },
  {
   "cell_type": "code",
   "execution_count": 6,
   "metadata": {},
   "outputs": [],
   "source": [
    "# LA SIGUIENTE TAREA PUEDE CONSUMIR BASTANTE TIEMPO, SE PUEDE EVITAR CON EL CUADRO ANTERIOR\n",
    "# Función para generar lista con los nombres de bandas a utilizar (en este caso solo bandas espectrales - sin NDVI ni BLUE0)\n",
    "def bnames(stack):\n",
    "    bands = []\n",
    "    img = stack.getInfo()['bands']\n",
    "    l = len(img)\n",
    "    for x in range(l):\n",
    "        band = img[x]['id']\n",
    "        if 'NDVI' not in band and band != 'BLUE0':\n",
    "            bands.append(band)\n",
    "    return bands\n",
    "# Se aplica la función a las bandas apiladas.\n",
    "bands = bnames(stacked)"
   ]
  },
  {
   "cell_type": "code",
   "execution_count": 6,
   "metadata": {
    "scrolled": false
   },
   "outputs": [
    {
     "name": "stdout",
     "output_type": "stream",
     "text": [
      "['BLUE', 'GREEN', 'RED', 'RED_EDGE1', 'RED_EDGE2', 'RED_EDGE3', 'NIR', 'RED_EDGE4', 'SWIR1', 'SWIR2', 'BLUE_1', 'GREEN_1', 'RED_1', 'RED_EDGE1_1', 'RED_EDGE2_1', 'RED_EDGE3_1', 'NIR_1', 'RED_EDGE4_1', 'SWIR1_1', 'SWIR2_1', 'BLUE_2', 'GREEN_2', 'RED_2', 'RED_EDGE1_2', 'RED_EDGE2_2', 'RED_EDGE3_2', 'NIR_2', 'RED_EDGE4_2', 'SWIR1_2', 'SWIR2_2']\n"
     ]
    }
   ],
   "source": [
    "# Se verifica la lista de bandas\n",
    "print(bands)"
   ]
  },
  {
   "cell_type": "code",
   "execution_count": 7,
   "metadata": {},
   "outputs": [],
   "source": [
    "# Se selecciona la subarea de trabajo filtrando el vector\n",
    "\n",
    "region = 'I' \n",
    "zona = area.filter(ee.Filter.eq('Zona', region)) # especificar atributo, en este caso \"Zona\"\n",
    "\n",
    "# Cargar la región de trabajo en el visor\n",
    "Map.addLayer(zona, {}, 'Zona a procesar', False)"
   ]
  },
  {
   "cell_type": "code",
   "execution_count": 47,
   "metadata": {},
   "outputs": [],
   "source": [
    "# El mosaico de la zona especifica es guardado en un Asset de GEE.\n",
    "# Esta tarea puede tardar varias horas dependiendo de las dimensiones del área a clasificar (si el área es chica no sería necesario crear el asset).\n",
    "# Hacer correr la lista de tareas con anticipación.\n",
    "\n",
    "task = ee.batch.Export.image.toAsset(**{\n",
    "    'image': stacked.select(bands),\n",
    "    'description': '2020-2021 summer median composite',\n",
    "    'assetId': 'users/COMPLETAR/'+region+'_COMLETAR',\n",
    "    'scale': 30,\n",
    "    'region':((vz_PAS.geometry()).bounds()).getInfo()['coordinates'],\n",
    "    'maxPixels': 1e10\n",
    "})\n",
    "task.start()"
   ]
  },
  {
   "cell_type": "code",
   "execution_count": 37,
   "metadata": {
    "scrolled": true
   },
   "outputs": [],
   "source": [
    "# Visualizar el mosaico generado (OPCIONAL)\n",
    "image = ee.Image('users/COMPLETAR'+region+'COMPLETAR')\n",
    "VisPar =  {'max': 2000, 'min': 0.0, 'gamma': 0.75, 'bands': ['RED_2', 'GREEN_2', 'BLUE_2']}\n",
    "Map.addLayer (image, VisPar, 'Mosaico Color Real', False)\n",
    "Map.centerObject(vz_PAS,7)\n"
   ]
  },
  {
   "cell_type": "markdown",
   "metadata": {},
   "source": [
    "## Partición de los datos de referencia a terreno (entrenamiento y validación)"
   ]
  },
  {
   "cell_type": "code",
   "execution_count": 19,
   "metadata": {
    "scrolled": true
   },
   "outputs": [
    {
     "name": "stdout",
     "output_type": "stream",
     "text": [
      "2643 size field reference data\n",
      "0.3715947801112811 random value in one reference data sample\n",
      "941 frdata training partition size\n",
      "406 frdata validation partition size\n",
      "{'type': 'Image', 'bands': [{'id': 'landcover', 'data_type': {'type': 'PixelType', 'precision': 'double'}, 'crs': 'EPSG:4326', 'crs_transform': [1, 0, 0, 0, 1, 0]}]} imagen rasterizada properties\n"
     ]
    }
   ],
   "source": [
    "\n",
    "# Se carga los datos de referencia a terreno en el visor\n",
    "Map.addLayer(rdata, {}, 'field reference data', False)\n",
    "\n",
    "# Se selecionan los lotes dentro de la región especificada\n",
    "frdata = rdata.filterBounds(zona.geometry())\n",
    "\n",
    "# Se imprime el tamaño del conjunto de lotes de entrenamiento para verificar consistencia (OPCIONAL)\n",
    "print(frdata.size().getInfo(), 'size field reference data')\n",
    "\n",
    "# Se definen las clases de interes para la clasificación (en este caso agrícolas)\n",
    "# Las clases se seleccionan/filtran por medio del atributo 'id'\n",
    "SOJA = frdata.filter(ee.Filter.eq('id',1))\n",
    "MAIZ = frdata.filter(ee.Filter.eq('id',3))\n",
    "MAIZ_2 = frdata.filter(ee.Filter.eq('id',32))\n",
    "GIRASOL = frdata.filter(ee.Filter.eq('id',4))\n",
    "SORGO = frdata.filter(ee.Filter.eq('id',9))\n",
    "ALGODON = frdata.filter(ee.Filter.eq('id',10))\n",
    "ARROZ = frdata.filter(ee.Filter.eq('id',13))\n",
    "\n",
    "# Se crea una FeatureCollection con las clases de interes seleccionadas segun la región    **************   COMPLETAR *************\n",
    "vectors = SOJA.merge(MAIZ).merge(SORGO).merge(ARROZ)\n",
    "\n",
    "# Se agrega una columna con valores aleatorios a cada lote. Se puede imprimir el primero (OPCIONAL)\n",
    "vectors = vectors.randomColumn()\n",
    "print(vectors.first().getInfo()['properties']['random'], 'random value in one reference data sample')\n",
    "\n",
    "# El conjunto de datos de referencia es dividido en entrenamiento (70%) y validación (30%)\n",
    "umbral = 0.7\n",
    "trainingP = vectors.filter(ee.Filter.lt('random', umbral))\n",
    "validationP = vectors.filter(ee.Filter.gt('random', umbral))\n",
    "print(trainingP.size().getInfo(), 'frdata training partition size')\n",
    "print(validationP.size().getInfo(), 'frdata validation partition size')\n",
    "\n",
    "# La FeatureCollection es rasterizada\n",
    "rdata_to_img = trainingP.reduceToImage(**{\n",
    "    'properties': ['id'],\n",
    "    'reducer': ee.Reducer.first()\n",
    "}).rename('landcover');\n",
    "print(rdata_to_img.getInfo(), 'imagen rasterizada properties')\n",
    "\n",
    "# Se define la paleta de colores y valores para ver la imagen en el visor\n",
    "palette = ['green', 'yellow','red', 'blue'] #******************   COMPLETAR *************\n",
    "values = ee.List([1,3,9,13])   #  id de las clases clasificar        *****************   COMPLETAR *************\n",
    "l = len(values.getInfo())\n",
    "sequence = list(range(1, l+1, 1)) # Secuencia de números enteros separados por una unidad, a fin de facilitar la visualización\n",
    "rdata_img = rdata_to_img.remap(values, sequence).rename('landcover')\n",
    "Map.addLayer(rdata_img, { min:1, max: l,\n",
    "  'palette': palette\n",
    "}, 'frdata rasterized');\n",
    "\n",
    "# Se muestrean 4000 puntos aleatorios por clase para ingresar al modelo de clasificación\n",
    "trainSample = rdata_to_img.toByte().stratifiedSample(**{\n",
    "  'numPoints': 4000,\n",
    "  'classBand': 'landcover',\n",
    "  'region': zona,\n",
    "  'scale': 100,\n",
    "  'geometries':True\n",
    "});"
   ]
  },
  {
   "cell_type": "code",
   "execution_count": 57,
   "metadata": {},
   "outputs": [
    {
     "name": "stdout",
     "output_type": "stream",
     "text": [
      "{'type': 'Feature', 'geometry': {'geodesic': False, 'type': 'Point', 'coordinates': [-61.8440665775664, -30.186537649910342]}, 'id': '0', 'properties': {'landcover': 1}}\n"
     ]
    }
   ],
   "source": [
    "# Se puede consultar la info del primer elemento del conjunto de validación (OPCIONAL)\n",
    "print(testSample.first().getInfo())"
   ]
  },
  {
   "cell_type": "code",
   "execution_count": 111,
   "metadata": {},
   "outputs": [
    {
     "name": "stdout",
     "output_type": "stream",
     "text": [
      "2641\n"
     ]
    }
   ],
   "source": [
    "# Imprimir cantidad de lotes a usar (entrenamiento + validación)\n",
    "print(vectors.size().getInfo())"
   ]
  },
  {
   "cell_type": "markdown",
   "metadata": {},
   "source": [
    "## Clasificación"
   ]
  },
  {
   "cell_type": "code",
   "execution_count": 20,
   "metadata": {},
   "outputs": [],
   "source": [
    "# Se entrena el algoritmo RF y se corre la clasificación con el mosaico guardado en el Asset *** ESPECIFICAR MASCARA AGRÍCOLA***\n",
    "label = 'landcover'\n",
    "image = ee.Image('users/COMPLETAR/'+region+'COMPLETAR')\n",
    "\n",
    "# Con el conjunto de entrenamiento se realiza el muestreo sobre la imagen a clasificar\n",
    "training = image.select(bands).sampleRegions(**{'collection': trainSample,'properties': [label],'scale': 20})\n",
    "\n",
    "# Se especifican los parametros del clasificador Random Forest, y se realiza el entrenamiento del mismo.\n",
    "trained = ee.Classifier.smileRandomForest(100).train(training, label,bands)\n",
    "\n",
    "# Se realiza la clasificación de la imagen utilizando las mismas bandas que en el entrenamiento.\n",
    "classified = image.select(bands).classify(trained).clip(zona)\n",
    "                                                    \n",
    "# Se realiza una reclasificación de los resultados para facilitar la visualización\n",
    "mapa = classified.remap(values, sequence)\n",
    "# Se enmascara la clase no agricola (incluido caña azucarera) usando el MNC 2021, o el CLC   **** ESPECIFICAR ****\n",
    "mask = (mnc_ver_2021.remap([10,11,12,13,14,15,16,17,18,19,21,22,26,28],[1,1,1,1,2,1,1,1,1,1,2,2,1,1])).eq(1)\n",
    "mask = clc.eq(40)\n",
    "maskedComposite = mapa.updateMask(mask)\n",
    "# Se carga el mapa resultante en el visor\n",
    "Map.addLayer(maskedComposite,{'min':1, 'max':l,'palette': palette},'Mapa cultivos verano',False)\n",
    "Map.centerObject(maskedComposite, 7)\n",
    "\n",
    "\n",
    "#***************    la imagen se carga en el mapa anterior     ************"
   ]
  },
  {
   "cell_type": "code",
   "execution_count": 205,
   "metadata": {},
   "outputs": [],
   "source": [
    "# Se puede ver el mapa sin enmascarar, en el visor (OPCIONAL)\n",
    "Map.addLayer(mapa,{'min':1, 'max':l,'palette': palette},'Mapa crudo',False)"
   ]
  },
  {
   "cell_type": "code",
   "execution_count": 21,
   "metadata": {},
   "outputs": [],
   "source": [
    "#**************************************************************************\n",
    "# Pos procesamiento para reemplazar los pixeles aislados con valores de los pixeles alrededor\n",
    "#**************************************************************************\n",
    "\n",
    "# Se identifican los parches menores a 150 pixeles \n",
    "patchsize = maskedComposite.connectedPixelCount(150, False)\n",
    "\n",
    "# Se corre un filtro de mayoría\n",
    "filtered = maskedComposite.focal_mode(**{\n",
    "    'radius': 100,\n",
    "    'kernelType': 'square',\n",
    "    'units': 'meters',\n",
    "})\n",
    "\n",
    "# las areas ocupadas por los parches menores a 101 pixeles son reemplazadas por el resultado del filtro de mayoria\n",
    "connectedClassified =  maskedComposite.where(patchsize.lt(101),filtered)\n",
    "# Se visualiza el mapa procesado en el visor\n",
    "Map.addLayer(connectedClassified, {'min': 1, 'max': l, 'palette': palette}, 'summer map processed using Connected Pixels', True)"
   ]
  },
  {
   "cell_type": "markdown",
   "metadata": {},
   "source": [
    "## Evaluación de la precisión"
   ]
  },
  {
   "cell_type": "code",
   "execution_count": 210,
   "metadata": {},
   "outputs": [],
   "source": [
    "# Con el conjunto de validadción se realiza el muestreo sobre las bandas de la imagen que se clasificó.\n",
    "# Se clasifica el conjunto de validación (OPCIONAL)\n",
    "validation = image.select(bands).sampleRegions(**{\n",
    "  'collection': validationP,\n",
    "  'properties': ['id'],\n",
    "  'scale': 100,\n",
    "  'tileScale': 16\n",
    "})\n",
    "\n",
    "validated = validation.classify(trained)"
   ]
  },
  {
   "cell_type": "code",
   "execution_count": 211,
   "metadata": {},
   "outputs": [
    {
     "name": "stdout",
     "output_type": "stream",
     "text": [
      "PG: 67.16716716716716\n",
      "Kappa: 0.35322703532783545\n"
     ]
    }
   ],
   "source": [
    "# Se calcula la matriz de confusión y estadisticos PG y Kappa (OPCIONAL)\n",
    "test_accuracy = validated.errorMatrix('id', 'classification')\n",
    "print('PG:',test_accuracy.accuracy().getInfo()*100)\n",
    "print('Kappa:', test_accuracy.kappa().getInfo())"
   ]
  },
  {
   "cell_type": "code",
   "execution_count": null,
   "metadata": {},
   "outputs": [],
   "source": [
    "# Exportar matriz de confusión a carpeta local de \"Descargas\". (OPCIONAL)\n",
    "import csv\n",
    "import os\n",
    "\n",
    "out_dir = os.path.join(os.path.expanduser('~'), 'Downloads')\n",
    "testing_csv = os.path.join(out_dir, 'test_accuracy COMPLETAR.csv')\n",
    "\n",
    "   \n",
    "with open(testing_csv, \"w\", newline=\"\") as f:\n",
    "    writer = csv.writer(f)\n",
    "    writer.writerows(test_accuracy.getInfo())"
   ]
  },
  {
   "cell_type": "markdown",
   "metadata": {},
   "source": [
    "## Exportar datos raster"
   ]
  },
  {
   "cell_type": "code",
   "execution_count": 22,
   "metadata": {},
   "outputs": [],
   "source": [
    "# se remapean los valores de cada pixel para exportar la imagen con los id de las clases\n",
    "map_to_exp = connectedClassified.remap(sequence, values)\n",
    "\n",
    "# Se exporta el mapa final a una carpeta de Google Drive\n",
    "task = ee.batch.Export.image.toDrive(**{\n",
    "    'image': map_to_exp,\n",
    "    'description': region+'_COMPLETAR',\n",
    "    'folder':'COMPLETAR CARPETA',\n",
    "    'scale': 30,\n",
    "    'region':((zona.geometry()).bounds()).getInfo()['coordinates'],\n",
    "    'maxPixels': 1e10\n",
    "})\n",
    "task.start()"
   ]
  },
  {
   "cell_type": "markdown",
   "metadata": {},
   "source": [
    "## Export datos vectoriales"
   ]
  },
  {
   "cell_type": "code",
   "execution_count": 23,
   "metadata": {},
   "outputs": [],
   "source": [
    "# Exportar el conjunto de validación a una carpeta de Google Drive en formato KML.\n",
    "task2 = ee.batch.Export.table.toDrive(**{\n",
    "    'collection': validationP,\n",
    "    'description': region+'COMPLETAR',\n",
    "    'folder':'COMPLETAR',\n",
    "'fileFormat': 'KML'\n",
    "})\n",
    "task2.start()"
   ]
  }
 ],
 "metadata": {
  "colab": {
   "authorship_tag": "ABX9TyPtXJ34ENFarxZkKILcANzC",
   "name": "Untitled0.ipynb",
   "provenance": []
  },
  "kernelspec": {
   "display_name": "Python 3",
   "language": "python",
   "name": "python3"
  },
  "language_info": {
   "codemirror_mode": {
    "name": "ipython",
    "version": 3
   },
   "file_extension": ".py",
   "mimetype": "text/x-python",
   "name": "python",
   "nbconvert_exporter": "python",
   "pygments_lexer": "ipython3",
   "version": "3.6.9"
  }
 },
 "nbformat": 4,
 "nbformat_minor": 1
}
